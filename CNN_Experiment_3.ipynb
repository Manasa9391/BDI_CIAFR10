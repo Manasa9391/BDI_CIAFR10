{
  "nbformat": 4,
  "nbformat_minor": 0,
  "metadata": {
    "colab": {
      "name": "CNN_Experiment_3.ipynb",
      "version": "0.3.2",
      "provenance": [],
      "collapsed_sections": [],
      "include_colab_link": true
    },
    "kernelspec": {
      "name": "python3",
      "display_name": "Python 3"
    },
    "accelerator": "GPU"
  },
  "cells": [
    {
      "cell_type": "markdown",
      "metadata": {
        "id": "view-in-github",
        "colab_type": "text"
      },
      "source": [
        "<a href=\"https://colab.research.google.com/github/Manasa9391/BDI_CIFAR10/blob/Manasa/CNN_Experiment_3.ipynb\" target=\"_parent\"><img src=\"https://colab.research.google.com/assets/colab-badge.svg\" alt=\"Open In Colab\"/></a>"
      ]
    },
    {
      "metadata": {
        "id": "edrAPWSpQgrI",
        "colab_type": "text"
      },
      "cell_type": "markdown",
      "source": [
        "# IMPORTING KERAS AND CIFAR-10 DATASET"
      ]
    },
    {
      "metadata": {
        "id": "aZpm8lLgNa-8",
        "colab_type": "code",
        "outputId": "c848d87a-f4bc-4d82-c8cf-50edd1ce6148",
        "colab": {
          "base_uri": "https://localhost:8080/",
          "height": 68
        }
      },
      "cell_type": "code",
      "source": [
        "import numpy as np\n",
        "\n",
        "from keras.datasets import cifar10\n",
        "from keras.utils.np_utils import to_categorical   \n",
        "\n",
        "\n",
        "(X_train, y_train), (X_test, y_test) = cifar10.load_data()"
      ],
      "execution_count": 1,
      "outputs": [
        {
          "output_type": "stream",
          "text": [
            "Using TensorFlow backend.\n"
          ],
          "name": "stderr"
        },
        {
          "output_type": "stream",
          "text": [
            "Downloading data from https://www.cs.toronto.edu/~kriz/cifar-10-python.tar.gz\n",
            "170500096/170498071 [==============================] - 33s 0us/step\n"
          ],
          "name": "stdout"
        }
      ]
    },
    {
      "metadata": {
        "id": "i4K7R9C5Nb3d",
        "colab_type": "code",
        "outputId": "fd160830-8be0-4ead-887f-9035b356327a",
        "colab": {
          "base_uri": "https://localhost:8080/",
          "height": 119
        }
      },
      "cell_type": "code",
      "source": [
        "print(\"Shape of training data:\")\n",
        "print(X_train.shape)\n",
        "print(y_train.shape)\n",
        "print(\"Shape of test data:\")\n",
        "print(X_test.shape)\n",
        "print(y_test.shape)"
      ],
      "execution_count": 2,
      "outputs": [
        {
          "output_type": "stream",
          "text": [
            "Shape of training data:\n",
            "(50000, 32, 32, 3)\n",
            "(50000, 1)\n",
            "Shape of test data:\n",
            "(10000, 32, 32, 3)\n",
            "(10000, 1)\n"
          ],
          "name": "stdout"
        }
      ]
    },
    {
      "metadata": {
        "id": "Xvua8xxo16HI",
        "colab_type": "code",
        "colab": {}
      },
      "cell_type": "code",
      "source": [
        ""
      ],
      "execution_count": 0,
      "outputs": []
    },
    {
      "metadata": {
        "id": "z31_a8DXNeOy",
        "colab_type": "code",
        "outputId": "64ef644d-1a26-4082-d25a-41fe6e7aff66",
        "colab": {
          "base_uri": "https://localhost:8080/",
          "height": 237
        }
      },
      "cell_type": "code",
      "source": [
        "import matplotlib.pyplot as plt\n",
        "\n",
        "cifar_classes = ['airplane', 'automobile', 'bird', 'cat', 'deer', 'dog', 'frog', 'horse', 'ship', 'truck']\n",
        "print('Example training images and their labels: ' + str([x[0] for x in y_train[0:5]])) \n",
        "print('Corresponding classes for the labels: ' + str([cifar_classes[x[0]] for x in y_train[0:5]]))\n",
        "\n",
        "f, axarr = plt.subplots(1, 5)\n",
        "f.set_size_inches(16, 6)\n",
        "\n",
        "for i in range(5):\n",
        "    img = X_train[i]\n",
        "    axarr[i].imshow(img)\n",
        "plt.show()"
      ],
      "execution_count": 3,
      "outputs": [
        {
          "output_type": "stream",
          "text": [
            "Example training images and their labels: [6, 9, 9, 4, 1]\n",
            "Corresponding classes for the labels: ['frog', 'truck', 'truck', 'deer', 'automobile']\n"
          ],
          "name": "stdout"
        },
        {
          "output_type": "display_data",
          "data": {
            "image/png": "[encoded data removed]",
            "text/plain": [
              "<matplotlib.figure.Figure at 0x7f7c2c5fc7b8>"
            ]
          },
          "metadata": {
            "tags": []
          }
        }
      ]
    },
    {
      "metadata": {
        "id": "Eadn6Yd4Ngji",
        "colab_type": "code",
        "colab": {}
      },
      "cell_type": "code",
      "source": [
        "# A simple CNN Model fr CIFAR-10"
      ],
      "execution_count": 0,
      "outputs": []
    },
    {
      "metadata": {
        "id": "Ywuk-ZmfQZVC",
        "colab_type": "code",
        "colab": {}
      },
      "cell_type": "code",
      "source": [
        "import keras \n",
        "from keras.models import Sequential\n",
        "from keras.layers import  Conv2D, MaxPooling2D, Dense, Flatten,Dropout,Activation\n",
        "from keras.layers import BatchNormalization\n",
        "from keras.utils import np_utils\n",
        "from keras.preprocessing.image import ImageDataGenerator\n",
        "import matplotlib.pyplot as plt \n",
        "import numpy as np\n",
        "from keras import regularizers\n",
        "from keras.datasets import cifar10\n",
        "from keras.optimizers import SGD "
      ],
      "execution_count": 0,
      "outputs": []
    },
    {
      "metadata": {
        "id": "NS8iy_-0isqK",
        "colab_type": "code",
        "outputId": "cd56abdc-4862-4972-b9bb-6ec4f4c1d96f",
        "colab": {
          "base_uri": "https://localhost:8080/",
          "height": 51
        }
      },
      "cell_type": "code",
      "source": [
        "(x_train,y_train),(x_test,y_test) = cifar10.load_data()\n",
        "\n",
        "print('Shape of training dataset :',x_train.shape)\n",
        "print('Shape of testing dataste :' ,x_test.shape)\n",
        "\n",
        "#formatting the dataset \n",
        "x_train = x_train.astype('float32')\n",
        "x_test = x_test.astype('float32')\n",
        "\n",
        "x_train = x_train/255.\n",
        "x_test = x_test/255.\n",
        "\n",
        "y_train = np_utils.to_categorical(y_train,10)\n",
        "y_test = np_utils.to_categorical(y_test,10)"
      ],
      "execution_count": 5,
      "outputs": [
        {
          "output_type": "stream",
          "text": [
            "Shape of training dataset : (50000, 32, 32, 3)\n",
            "Shape of testing dataste : (10000, 32, 32, 3)\n"
          ],
          "name": "stdout"
        }
      ]
    },
    {
      "metadata": {
        "id": "oD3gGRRoiwNb",
        "colab_type": "code",
        "outputId": "4aec8249-5d77-4434-d56d-b52b67d1296a",
        "colab": {
          "base_uri": "https://localhost:8080/",
          "height": 34
        }
      },
      "cell_type": "code",
      "source": [
        "len(x_train)"
      ],
      "execution_count": 0,
      "outputs": [
        {
          "output_type": "execute_result",
          "data": {
            "text/plain": [
              "50000"
            ]
          },
          "metadata": {
            "tags": []
          },
          "execution_count": 6
        }
      ]
    },
    {
      "metadata": {
        "id": "pCDIbwMFd5OS",
        "colab_type": "code",
        "colab": {}
      },
      "cell_type": "code",
      "source": [
        "model = Sequential()\n",
        "\n",
        "weight_decay  = 0.0003\n",
        "weight_decay_1= 0.0001  \n",
        "#layer1\n",
        "model.add(Conv2D(32,(3,3),input_shape=[32,32,3],kernel_regularizer=regularizers.l2(weight_decay_1),padding='same'))\n",
        "model.add(Activation('relu'))\n",
        "model.add(BatchNormalization())\n",
        "model.add(Dropout(0.4))\n",
        "\n",
        "#layer2\n",
        "model.add(Conv2D(32,(3,3),kernel_regularizer=regularizers.l2(0.0003),padding='same'))\n",
        "model.add(BatchNormalization())\n",
        "model.add(Activation('relu'))\n",
        "model.add(MaxPooling2D(2,2))\n",
        "\n",
        "#layer 3\n",
        "model.add(Conv2D(64,(3,3),kernel_regularizer=regularizers.l2(0.0003),padding='same'))\n",
        "model.add(BatchNormalization())\n",
        "model.add(Activation('relu'))\n",
        "model.add(Dropout(0.4))\n",
        "\n",
        "\n",
        "#layer4\n",
        "model.add(Conv2D(64,(3,3),kernel_regularizer=regularizers.l2(0.0003),padding='same'))\n",
        "model.add(BatchNormalization())\n",
        "model.add(Activation('relu'))\n",
        "model.add(MaxPooling2D(2,2))\n",
        "\n",
        "#layer5\n",
        "\n",
        "\n",
        "model.add(Conv2D(128,(3,3),kernel_regularizer=regularizers.l2(0.0003),padding='same'))\n",
        "model.add(Activation('relu'))\n",
        "model.add(BatchNormalization())\n",
        "model.add(Dropout(0.3))\n",
        "\n",
        "#layer6\n",
        "\n",
        "model.add(Conv2D(128,(3,3),kernel_regularizer=regularizers.l2(0.0003),padding='same'))\n",
        "model.add(BatchNormalization())\n",
        "model.add(Activation('relu'))\n",
        "model.add(MaxPooling2D(2,2))\n"
      ],
      "execution_count": 0,
      "outputs": []
    },
    {
      "metadata": {
        "id": "L6-KPYdohOQG",
        "colab_type": "code",
        "colab": {}
      },
      "cell_type": "code",
      "source": [
        "model.add(Flatten())\n",
        "model.add(Dense(512))\n",
        "model.add(Dropout(0.3))\n",
        "model.add(Dense(10,activation='softmax'))\n"
      ],
      "execution_count": 0,
      "outputs": []
    },
    {
      "metadata": {
        "id": "4rc4gcwjhO5R",
        "colab_type": "code",
        "outputId": "e5191ca1-a55a-44e9-c2cd-c70716f53ccd",
        "colab": {
          "base_uri": "https://localhost:8080/",
          "height": 1088
        }
      },
      "cell_type": "code",
      "source": [
        "model.summary()"
      ],
      "execution_count": 0,
      "outputs": [
        {
          "output_type": "stream",
          "text": [
            "_________________________________________________________________\n",
            "Layer (type)                 Output Shape              Param #   \n",
            "=================================================================\n",
            "conv2d_7 (Conv2D)            (None, 32, 32, 32)        896       \n",
            "_________________________________________________________________\n",
            "activation_7 (Activation)    (None, 32, 32, 32)        0         \n",
            "_________________________________________________________________\n",
            "batch_normalization_7 (Batch (None, 32, 32, 32)        128       \n",
            "_________________________________________________________________\n",
            "dropout_4 (Dropout)          (None, 32, 32, 32)        0         \n",
            "_________________________________________________________________\n",
            "conv2d_8 (Conv2D)            (None, 32, 32, 32)        9248      \n",
            "_________________________________________________________________\n",
            "batch_normalization_8 (Batch (None, 32, 32, 32)        128       \n",
            "_________________________________________________________________\n",
            "activation_8 (Activation)    (None, 32, 32, 32)        0         \n",
            "_________________________________________________________________\n",
            "max_pooling2d_4 (MaxPooling2 (None, 16, 16, 32)        0         \n",
            "_________________________________________________________________\n",
            "conv2d_9 (Conv2D)            (None, 16, 16, 64)        18496     \n",
            "_________________________________________________________________\n",
            "batch_normalization_9 (Batch (None, 16, 16, 64)        256       \n",
            "_________________________________________________________________\n",
            "activation_9 (Activation)    (None, 16, 16, 64)        0         \n",
            "_________________________________________________________________\n",
            "dropout_5 (Dropout)          (None, 16, 16, 64)        0         \n",
            "_________________________________________________________________\n",
            "conv2d_10 (Conv2D)           (None, 16, 16, 64)        36928     \n",
            "_________________________________________________________________\n",
            "batch_normalization_10 (Batc (None, 16, 16, 64)        256       \n",
            "_________________________________________________________________\n",
            "activation_10 (Activation)   (None, 16, 16, 64)        0         \n",
            "_________________________________________________________________\n",
            "max_pooling2d_5 (MaxPooling2 (None, 8, 8, 64)          0         \n",
            "_________________________________________________________________\n",
            "conv2d_11 (Conv2D)           (None, 8, 8, 128)         73856     \n",
            "_________________________________________________________________\n",
            "activation_11 (Activation)   (None, 8, 8, 128)         0         \n",
            "_________________________________________________________________\n",
            "batch_normalization_11 (Batc (None, 8, 8, 128)         512       \n",
            "_________________________________________________________________\n",
            "dropout_6 (Dropout)          (None, 8, 8, 128)         0         \n",
            "_________________________________________________________________\n",
            "conv2d_12 (Conv2D)           (None, 8, 8, 128)         147584    \n",
            "_________________________________________________________________\n",
            "batch_normalization_12 (Batc (None, 8, 8, 128)         512       \n",
            "_________________________________________________________________\n",
            "activation_12 (Activation)   (None, 8, 8, 128)         0         \n",
            "_________________________________________________________________\n",
            "max_pooling2d_6 (MaxPooling2 (None, 4, 4, 128)         0         \n",
            "_________________________________________________________________\n",
            "flatten_1 (Flatten)          (None, 2048)              0         \n",
            "_________________________________________________________________\n",
            "dense_1 (Dense)              (None, 512)               1049088   \n",
            "_________________________________________________________________\n",
            "dropout_7 (Dropout)          (None, 512)               0         \n",
            "_________________________________________________________________\n",
            "dense_2 (Dense)              (None, 10)                5130      \n",
            "=================================================================\n",
            "Total params: 1,343,018\n",
            "Trainable params: 1,342,122\n",
            "Non-trainable params: 896\n",
            "_________________________________________________________________\n"
          ],
          "name": "stdout"
        }
      ]
    },
    {
      "metadata": {
        "id": "HadVET55hRvS",
        "colab_type": "code",
        "colab": {}
      },
      "cell_type": "code",
      "source": [
        "\n",
        "reduce_lr = keras.callbacks.ReduceLROnPlateau(monitor='val_acc', factor=0.2,\n",
        "                              patience=15, min_lr=0.001)\n"
      ],
      "execution_count": 0,
      "outputs": []
    },
    {
      "metadata": {
        "id": "EcmUruulhgF2",
        "colab_type": "code",
        "colab": {}
      },
      "cell_type": "code",
      "source": [
        "SGD = SGD(lr=0.01, decay=1e-6, momentum=0.9)"
      ],
      "execution_count": 0,
      "outputs": []
    },
    {
      "metadata": {
        "id": "srAD2WaNhiA7",
        "colab_type": "code",
        "colab": {}
      },
      "cell_type": "code",
      "source": [
        "model.compile(loss='categorical_crossentropy',optimizer='SGD',metrics=['accuracy'])\n",
        "\n"
      ],
      "execution_count": 0,
      "outputs": []
    },
    {
      "metadata": {
        "id": "HW5yZLTXhuIc",
        "colab_type": "code",
        "outputId": "e16fcf10-e049-4635-90e1-d107725fe4be",
        "colab": {
          "base_uri": "https://localhost:8080/",
          "height": 1734
        }
      },
      "cell_type": "code",
      "source": [
        "history = model.fit(x_train, y_train, epochs = 50, batch_size = 64, validation_data = (x_test,y_test))"
      ],
      "execution_count": 0,
      "outputs": [
        {
          "output_type": "stream",
          "text": [
            "Train on 50000 samples, validate on 10000 samples\n",
            "Epoch 1/50\n",
            "50000/50000 [==============================] - 37s 739us/step - loss: 2.2087 - acc: 0.3584 - val_loss: 2.5752 - val_acc: 0.2392\n",
            "Epoch 2/50\n",
            "50000/50000 [==============================] - 30s 594us/step - loss: 1.6013 - acc: 0.4770 - val_loss: 1.8548 - val_acc: 0.3854\n",
            "Epoch 3/50\n",
            "50000/50000 [==============================] - 30s 603us/step - loss: 1.4289 - acc: 0.5316 - val_loss: 1.7140 - val_acc: 0.4552\n",
            "Epoch 4/50\n",
            "50000/50000 [==============================] - 30s 606us/step - loss: 1.2999 - acc: 0.5746 - val_loss: 1.5162 - val_acc: 0.5014\n",
            "Epoch 5/50\n",
            "50000/50000 [==============================] - 31s 621us/step - loss: 1.1996 - acc: 0.6119 - val_loss: 1.5234 - val_acc: 0.5101\n",
            "Epoch 6/50\n",
            "50000/50000 [==============================] - 30s 601us/step - loss: 1.1282 - acc: 0.6366 - val_loss: 1.2207 - val_acc: 0.6097\n",
            "Epoch 7/50\n",
            "50000/50000 [==============================] - 30s 607us/step - loss: 1.0689 - acc: 0.6570 - val_loss: 1.1403 - val_acc: 0.6321\n",
            "Epoch 8/50\n",
            "50000/50000 [==============================] - 30s 601us/step - loss: 1.0200 - acc: 0.6734 - val_loss: 1.1511 - val_acc: 0.6324\n",
            "Epoch 9/50\n",
            "50000/50000 [==============================] - 31s 621us/step - loss: 0.9836 - acc: 0.6858 - val_loss: 1.3483 - val_acc: 0.5707\n",
            "Epoch 10/50\n",
            "50000/50000 [==============================] - 31s 626us/step - loss: 0.9471 - acc: 0.7002 - val_loss: 1.0809 - val_acc: 0.6613\n",
            "Epoch 11/50\n",
            "50000/50000 [==============================] - 31s 626us/step - loss: 0.9117 - acc: 0.7119 - val_loss: 1.0857 - val_acc: 0.6562\n",
            "Epoch 12/50\n",
            "50000/50000 [==============================] - 31s 627us/step - loss: 0.8733 - acc: 0.7266 - val_loss: 1.1868 - val_acc: 0.6202\n",
            "Epoch 13/50\n",
            "50000/50000 [==============================] - 31s 623us/step - loss: 0.8515 - acc: 0.7320 - val_loss: 1.0065 - val_acc: 0.6873\n",
            "Epoch 14/50\n",
            "50000/50000 [==============================] - 31s 628us/step - loss: 0.8275 - acc: 0.7422 - val_loss: 0.8929 - val_acc: 0.7192\n",
            "Epoch 15/50\n",
            "50000/50000 [==============================] - 31s 627us/step - loss: 0.8038 - acc: 0.7520 - val_loss: 1.0387 - val_acc: 0.6710\n",
            "Epoch 16/50\n",
            "50000/50000 [==============================] - 31s 628us/step - loss: 0.7840 - acc: 0.7575 - val_loss: 0.9498 - val_acc: 0.7021\n",
            "Epoch 17/50\n",
            "50000/50000 [==============================] - 29s 586us/step - loss: 0.7626 - acc: 0.7655 - val_loss: 0.8189 - val_acc: 0.7510\n",
            "Epoch 18/50\n",
            "50000/50000 [==============================] - 31s 623us/step - loss: 0.7442 - acc: 0.7717 - val_loss: 0.9364 - val_acc: 0.7184\n",
            "Epoch 19/50\n",
            "50000/50000 [==============================] - 29s 586us/step - loss: 0.7259 - acc: 0.7783 - val_loss: 0.8052 - val_acc: 0.7579\n",
            "Epoch 20/50\n",
            "50000/50000 [==============================] - 28s 569us/step - loss: 0.7153 - acc: 0.7833 - val_loss: 0.7715 - val_acc: 0.7665\n",
            "Epoch 21/50\n",
            "50000/50000 [==============================] - 30s 607us/step - loss: 0.6945 - acc: 0.7893 - val_loss: 0.9871 - val_acc: 0.6996\n",
            "Epoch 22/50\n",
            "50000/50000 [==============================] - 30s 607us/step - loss: 0.6810 - acc: 0.7934 - val_loss: 0.7925 - val_acc: 0.7602\n",
            "Epoch 23/50\n",
            "50000/50000 [==============================] - 28s 568us/step - loss: 0.6699 - acc: 0.7970 - val_loss: 0.8554 - val_acc: 0.7467\n",
            "Epoch 24/50\n",
            "50000/50000 [==============================] - 30s 607us/step - loss: 0.6541 - acc: 0.8039 - val_loss: 0.7297 - val_acc: 0.7859\n",
            "Epoch 25/50\n",
            "50000/50000 [==============================] - 30s 607us/step - loss: 0.6410 - acc: 0.8083 - val_loss: 0.7842 - val_acc: 0.7660\n",
            "Epoch 26/50\n",
            "50000/50000 [==============================] - 30s 607us/step - loss: 0.6331 - acc: 0.8101 - val_loss: 0.6897 - val_acc: 0.7963\n",
            "Epoch 27/50\n",
            "50000/50000 [==============================] - 28s 568us/step - loss: 0.6239 - acc: 0.8131 - val_loss: 0.8046 - val_acc: 0.7642\n",
            "Epoch 28/50\n",
            "50000/50000 [==============================] - 28s 569us/step - loss: 0.6096 - acc: 0.8183 - val_loss: 0.7667 - val_acc: 0.7698\n",
            "Epoch 29/50\n",
            "50000/50000 [==============================] - 28s 569us/step - loss: 0.5972 - acc: 0.8211 - val_loss: 0.7636 - val_acc: 0.7750\n",
            "Epoch 30/50\n",
            "50000/50000 [==============================] - 30s 609us/step - loss: 0.5808 - acc: 0.8281 - val_loss: 0.6689 - val_acc: 0.8075\n",
            "Epoch 31/50\n",
            "50000/50000 [==============================] - 30s 609us/step - loss: 0.5784 - acc: 0.8275 - val_loss: 0.6940 - val_acc: 0.7978\n",
            "Epoch 32/50\n",
            "50000/50000 [==============================] - 28s 568us/step - loss: 0.5672 - acc: 0.8343 - val_loss: 0.9410 - val_acc: 0.7249\n",
            "Epoch 33/50\n",
            "50000/50000 [==============================] - 30s 606us/step - loss: 0.5595 - acc: 0.8336 - val_loss: 0.7442 - val_acc: 0.7795\n",
            "Epoch 34/50\n",
            "50000/50000 [==============================] - 30s 606us/step - loss: 0.5508 - acc: 0.8385 - val_loss: 0.6535 - val_acc: 0.8103\n",
            "Epoch 35/50\n",
            "50000/50000 [==============================] - 30s 608us/step - loss: 0.5447 - acc: 0.8396 - val_loss: 0.6764 - val_acc: 0.8006\n",
            "Epoch 36/50\n",
            "50000/50000 [==============================] - 30s 606us/step - loss: 0.5330 - acc: 0.8441 - val_loss: 0.7292 - val_acc: 0.7880\n",
            "Epoch 37/50\n",
            "50000/50000 [==============================] - 28s 568us/step - loss: 0.5223 - acc: 0.8469 - val_loss: 0.8027 - val_acc: 0.7716\n",
            "Epoch 38/50\n",
            "50000/50000 [==============================] - 30s 605us/step - loss: 0.5204 - acc: 0.8501 - val_loss: 0.8827 - val_acc: 0.7443\n",
            "Epoch 39/50\n",
            "50000/50000 [==============================] - 28s 568us/step - loss: 0.5003 - acc: 0.8552 - val_loss: 0.6535 - val_acc: 0.8143\n",
            "Epoch 40/50\n",
            "50000/50000 [==============================] - 28s 569us/step - loss: 0.5007 - acc: 0.8544 - val_loss: 0.6617 - val_acc: 0.8129\n",
            "Epoch 41/50\n",
            "50000/50000 [==============================] - 28s 568us/step - loss: 0.4882 - acc: 0.8581 - val_loss: 0.8220 - val_acc: 0.7679\n",
            "Epoch 42/50\n",
            "50000/50000 [==============================] - 28s 568us/step - loss: 0.4870 - acc: 0.8596 - val_loss: 0.7690 - val_acc: 0.7755\n",
            "Epoch 43/50\n",
            "50000/50000 [==============================] - 28s 567us/step - loss: 0.4774 - acc: 0.8619 - val_loss: 0.7795 - val_acc: 0.7790\n",
            "Epoch 44/50\n",
            "50000/50000 [==============================] - 28s 567us/step - loss: 0.4702 - acc: 0.8627 - val_loss: 0.6867 - val_acc: 0.8053\n",
            "Epoch 45/50\n",
            "50000/50000 [==============================] - 28s 566us/step - loss: 0.4645 - acc: 0.8665 - val_loss: 0.6609 - val_acc: 0.8144\n",
            "Epoch 46/50\n",
            "50000/50000 [==============================] - 28s 567us/step - loss: 0.4552 - acc: 0.8689 - val_loss: 0.6502 - val_acc: 0.8187\n",
            "Epoch 47/50\n",
            "50000/50000 [==============================] - 28s 568us/step - loss: 0.4511 - acc: 0.8729 - val_loss: 0.6523 - val_acc: 0.8136\n",
            "Epoch 48/50\n",
            "50000/50000 [==============================] - 28s 567us/step - loss: 0.4431 - acc: 0.8739 - val_loss: 0.6484 - val_acc: 0.8164\n",
            "Epoch 49/50\n",
            "50000/50000 [==============================] - 28s 567us/step - loss: 0.4395 - acc: 0.8739 - val_loss: 0.6410 - val_acc: 0.8194\n",
            "Epoch 50/50\n",
            "50000/50000 [==============================] - 28s 568us/step - loss: 0.4322 - acc: 0.8765 - val_loss: 0.6391 - val_acc: 0.8196\n"
          ],
          "name": "stdout"
        }
      ]
    },
    {
      "metadata": {
        "id": "iNEIK8b_i0V2",
        "colab_type": "code",
        "outputId": "0ff006db-ca41-42a3-fcd7-a705cef8c8b4",
        "colab": {
          "base_uri": "https://localhost:8080/",
          "height": 238
        }
      },
      "cell_type": "code",
      "source": [
        "model.predict(x_test)"
      ],
      "execution_count": 0,
      "outputs": [
        {
          "output_type": "execute_result",
          "data": {
            "text/plain": [
              "array([[7.31808882e-07, 1.60714248e-04, 9.66380248e-05, ...,\n",
              "        6.76244341e-08, 7.87901718e-06, 1.53458695e-05],\n",
              "       [6.91453670e-06, 6.34332420e-03, 2.71777569e-08, ...,\n",
              "        2.18441354e-09, 9.93643045e-01, 6.63303854e-06],\n",
              "       [1.47919045e-05, 3.77027062e-03, 1.68509916e-06, ...,\n",
              "        2.67286396e-07, 9.96202886e-01, 7.76229354e-06],\n",
              "       ...,\n",
              "       [1.27266239e-05, 3.41095074e-05, 4.75578476e-03, ...,\n",
              "        9.26571083e-04, 3.11849885e-06, 1.82757758e-05],\n",
              "       [1.38419057e-06, 9.99980569e-01, 8.53929905e-09, ...,\n",
              "        4.70233741e-10, 1.71835897e-08, 1.79857925e-05],\n",
              "       [4.49968465e-11, 1.46887624e-09, 8.63107752e-10, ...,\n",
              "        9.99990344e-01, 8.94698031e-12, 2.43986567e-11]], dtype=float32)"
            ]
          },
          "metadata": {
            "tags": []
          },
          "execution_count": 20
        }
      ]
    },
    {
      "metadata": {
        "id": "WIuIrq7cR3bd",
        "colab_type": "code",
        "outputId": "2e7ec9b7-80e7-4d59-ea49-1313536b731e",
        "colab": {
          "base_uri": "https://localhost:8080/",
          "height": 34
        }
      },
      "cell_type": "code",
      "source": [
        "scores=model.evaluate(x_test,y_test)"
      ],
      "execution_count": 0,
      "outputs": [
        {
          "output_type": "stream",
          "text": [
            "10000/10000 [==============================] - 3s 254us/step\n"
          ],
          "name": "stdout"
        }
      ]
    },
    {
      "metadata": {
        "id": "HSwjreOSiTp5",
        "colab_type": "code",
        "outputId": "4794c45d-405f-4245-e271-efd843ceffac",
        "colab": {
          "base_uri": "https://localhost:8080/",
          "height": 34
        }
      },
      "cell_type": "code",
      "source": [
        "scores"
      ],
      "execution_count": 0,
      "outputs": [
        {
          "output_type": "execute_result",
          "data": {
            "text/plain": [
              "[0.47331787767410277, 0.8731]"
            ]
          },
          "metadata": {
            "tags": []
          },
          "execution_count": 23
        }
      ]
    },
    {
      "metadata": {
        "id": "DVvbJddzhyQ5",
        "colab_type": "code",
        "outputId": "a2d62f90-1056-478b-f376-873720e5b177",
        "colab": {
          "base_uri": "https://localhost:8080/",
          "height": 735
        }
      },
      "cell_type": "code",
      "source": [
        "plt.plot(history.history['acc'])\n",
        "plt.plot(history.history['val_acc'])\n",
        "plt.title('model accuracy')\n",
        "plt.ylabel('accuracy')\n",
        "plt.xlabel('epoch')\n",
        "plt.legend(['train', 'test'], loc='upper left')\n",
        "plt.show()\n",
        "# summarize history for loss\n",
        "plt.plot(history.history['loss'])\n",
        "plt.plot(history.history['val_loss'])\n",
        "plt.title('model loss')\n",
        "plt.ylabel('loss')\n",
        "plt.xlabel('epoch')\n",
        "plt.legend(['train', 'test'], loc='upper left')\n",
        "plt.show()"
      ],
      "execution_count": 0,
      "outputs": [
        {
          "output_type": "display_data",
          "data": {
            "image/png": "[encoded data removed]",
            "text/plain": [
              "<matplotlib.figure.Figure at 0x7f8256145cc0>"
            ]
          },
          "metadata": {
            "tags": []
          }
        },
        {
          "output_type": "display_data",
          "data": {
            "image/png": "[encoded data removed]",
            "text/plain": [
              "<matplotlib.figure.Figure at 0x7f8256158630>"
            ]
          },
          "metadata": {
            "tags": []
          }
        }
      ]
    },
    {
      "metadata": {
        "id": "rOFchd1hkV1q",
        "colab_type": "text"
      },
      "cell_type": "markdown",
      "source": [
        "## **EXPERIMENT: 2 -- INCLUDING DATA AUGMENTATION**\n"
      ]
    },
    {
      "metadata": {
        "id": "DfT7I8QMhm6Z",
        "colab_type": "code",
        "colab": {}
      },
      "cell_type": "code",
      "source": [
        "def get_model(activation='relu',loss='categorical_crossentropy',optimizer='sgd', epochs = 20):\n",
        "  model = Sequential()\n",
        "  \n",
        "  \n",
        "\n",
        "  model.add(Conv2D(32,(3,3),input_shape=[32,32,3],padding='same'))\n",
        "  model.add(Activation('relu'))\n",
        "  model.add(BatchNormalization())\n",
        "  model.add(Dropout(0.4))\n",
        "\n",
        "  #layer2\n",
        "  model.add(Conv2D(32,(3,3),padding='same'))\n",
        "  model.add(BatchNormalization())\n",
        "  model.add(Activation('relu'))\n",
        "  model.add(MaxPooling2D(2,2))\n",
        "\n",
        "  #layer 3\n",
        "  model.add(Conv2D(64,(3,3),padding='same'))\n",
        "  model.add(BatchNormalization())\n",
        "  model.add(Activation('relu'))\n",
        "  model.add(Dropout(0.4))\n",
        "\n",
        "\n",
        "  #layer4\n",
        "  model.add(Conv2D(64,(3,3),padding='same'))\n",
        "  model.add(BatchNormalization())\n",
        "  model.add(Activation('relu'))\n",
        "  model.add(MaxPooling2D(2,2))\n",
        "\n",
        "  #layer5\n",
        "\n",
        "\n",
        "  model.add(Conv2D(128,(3,3),padding='same'))\n",
        "  model.add(Activation('relu'))\n",
        "  model.add(BatchNormalization())\n",
        "  model.add(Dropout(0.3))\n",
        "\n",
        "  #layer6\n",
        "\n",
        "  model.add(Conv2D(128,(3,3),padding='same'))\n",
        "  model.add(BatchNormalization())\n",
        "  model.add(Activation('relu'))\n",
        "  model.add(MaxPooling2D(2,2))\n",
        "  \n",
        "  \n",
        "  model.add(Flatten())\n",
        "  model.add(Dense(512))\n",
        "  model.add(Dropout(0.3))\n",
        "  model.add(Dense(10,activation='softmax'))\n",
        "  model.summary()\n",
        "  \n",
        "  reduce_lr = keras.callbacks.ReduceLROnPlateau(monitor='val_acc', factor=0.2,\n",
        "                              patience=15, min_lr=0.001)\n",
        "  \n",
        "  \n",
        "  \n",
        "  #SGD = SGD(lr=0.01, decay=1e-6, momentum=0.9)\n",
        "  \n",
        "  model.compile(loss='categorical_crossentropy',optimizer=optimizer,metrics=['accuracy'])\n",
        "  \n",
        "  datagen = ImageDataGenerator(\n",
        "      \n",
        "      featurewise_center=False,\n",
        "      featurewise_std_normalization=False,\n",
        "      rotation_range=20,\n",
        "      width_shift_range=0.2,\n",
        "      height_shift_range=0.2,\n",
        "      horizontal_flip=True,\n",
        "      vertical_flip = False)\n",
        "  \n",
        "  datagen.fit(x_train)\n",
        "  \n",
        "  \n",
        "  history = model.fit_generator(datagen.flow(x_train, y_train, batch_size=64),\n",
        "                    steps_per_epoch=len(x_train) / 32, epochs=50,\n",
        "                    validation_data = (x_test,y_test),callbacks= [reduce_lr])\n",
        "  \n",
        "  \n",
        "  #history = model.fit_generator(x_train, y_train, epochs = 50, batch_size = 64, validation_data = (x_test,y_test))\n",
        "  \n",
        "  \n",
        "  \n",
        "  \n",
        "  return model, history\n",
        "  \n",
        "  \n",
        "  \n",
        "  \n",
        "  \n",
        "\n"
      ],
      "execution_count": 0,
      "outputs": []
    },
    {
      "metadata": {
        "id": "9-6I-nGpFxq4",
        "colab_type": "code",
        "colab": {
          "base_uri": "https://localhost:8080/",
          "height": 2788
        },
        "outputId": "3e80f89e-dfbf-49b2-b3b2-30509acfb171"
      },
      "cell_type": "code",
      "source": [
        "model1,history1= get_model()"
      ],
      "execution_count": 17,
      "outputs": [
        {
          "output_type": "stream",
          "text": [
            "_________________________________________________________________\n",
            "Layer (type)                 Output Shape              Param #   \n",
            "=================================================================\n",
            "conv2d_19 (Conv2D)           (None, 32, 32, 32)        896       \n",
            "_________________________________________________________________\n",
            "activation_19 (Activation)   (None, 32, 32, 32)        0         \n",
            "_________________________________________________________________\n",
            "batch_normalization_19 (Batc (None, 32, 32, 32)        128       \n",
            "_________________________________________________________________\n",
            "dropout_13 (Dropout)         (None, 32, 32, 32)        0         \n",
            "_________________________________________________________________\n",
            "conv2d_20 (Conv2D)           (None, 32, 32, 32)        9248      \n",
            "_________________________________________________________________\n",
            "batch_normalization_20 (Batc (None, 32, 32, 32)        128       \n",
            "_________________________________________________________________\n",
            "activation_20 (Activation)   (None, 32, 32, 32)        0         \n",
            "_________________________________________________________________\n",
            "max_pooling2d_10 (MaxPooling (None, 16, 16, 32)        0         \n",
            "_________________________________________________________________\n",
            "conv2d_21 (Conv2D)           (None, 16, 16, 64)        18496     \n",
            "_________________________________________________________________\n",
            "batch_normalization_21 (Batc (None, 16, 16, 64)        256       \n",
            "_________________________________________________________________\n",
            "activation_21 (Activation)   (None, 16, 16, 64)        0         \n",
            "_________________________________________________________________\n",
            "dropout_14 (Dropout)         (None, 16, 16, 64)        0         \n",
            "_________________________________________________________________\n",
            "conv2d_22 (Conv2D)           (None, 16, 16, 64)        36928     \n",
            "_________________________________________________________________\n",
            "batch_normalization_22 (Batc (None, 16, 16, 64)        256       \n",
            "_________________________________________________________________\n",
            "activation_22 (Activation)   (None, 16, 16, 64)        0         \n",
            "_________________________________________________________________\n",
            "max_pooling2d_11 (MaxPooling (None, 8, 8, 64)          0         \n",
            "_________________________________________________________________\n",
            "conv2d_23 (Conv2D)           (None, 8, 8, 128)         73856     \n",
            "_________________________________________________________________\n",
            "activation_23 (Activation)   (None, 8, 8, 128)         0         \n",
            "_________________________________________________________________\n",
            "batch_normalization_23 (Batc (None, 8, 8, 128)         512       \n",
            "_________________________________________________________________\n",
            "dropout_15 (Dropout)         (None, 8, 8, 128)         0         \n",
            "_________________________________________________________________\n",
            "conv2d_24 (Conv2D)           (None, 8, 8, 128)         147584    \n",
            "_________________________________________________________________\n",
            "batch_normalization_24 (Batc (None, 8, 8, 128)         512       \n",
            "_________________________________________________________________\n",
            "activation_24 (Activation)   (None, 8, 8, 128)         0         \n",
            "_________________________________________________________________\n",
            "max_pooling2d_12 (MaxPooling (None, 4, 4, 128)         0         \n",
            "_________________________________________________________________\n",
            "flatten_4 (Flatten)          (None, 2048)              0         \n",
            "_________________________________________________________________\n",
            "dense_7 (Dense)              (None, 512)               1049088   \n",
            "_________________________________________________________________\n",
            "dropout_16 (Dropout)         (None, 512)               0         \n",
            "_________________________________________________________________\n",
            "dense_8 (Dense)              (None, 10)                5130      \n",
            "=================================================================\n",
            "Total params: 1,343,018\n",
            "Trainable params: 1,342,122\n",
            "Non-trainable params: 896\n",
            "_________________________________________________________________\n",
            "Epoch 1/50\n",
            "1563/1562 [==============================] - 88s 57ms/step - loss: 1.9940 - acc: 0.3334 - val_loss: 1.6237 - val_acc: 0.4116\n",
            "Epoch 2/50\n",
            "1563/1562 [==============================] - 83s 53ms/step - loss: 1.5253 - acc: 0.4441 - val_loss: 2.0004 - val_acc: 0.4129\n",
            "Epoch 3/50\n",
            "1563/1562 [==============================] - 84s 53ms/step - loss: 1.3700 - acc: 0.5036 - val_loss: 1.6918 - val_acc: 0.4493\n",
            "Epoch 4/50\n",
            "1563/1562 [==============================] - 84s 53ms/step - loss: 1.2694 - acc: 0.5441 - val_loss: 1.6701 - val_acc: 0.4708\n",
            "Epoch 5/50\n",
            "1563/1562 [==============================] - 83s 53ms/step - loss: 1.2035 - acc: 0.5670 - val_loss: 1.4213 - val_acc: 0.5204\n",
            "Epoch 6/50\n",
            "1563/1562 [==============================] - 85s 55ms/step - loss: 1.1493 - acc: 0.5887 - val_loss: 1.9243 - val_acc: 0.4454\n",
            "Epoch 7/50\n",
            "1563/1562 [==============================] - 84s 54ms/step - loss: 1.1072 - acc: 0.6049 - val_loss: 1.8799 - val_acc: 0.4423\n",
            "Epoch 8/50\n",
            "1563/1562 [==============================] - 84s 54ms/step - loss: 1.0717 - acc: 0.6182 - val_loss: 1.8207 - val_acc: 0.4781\n",
            "Epoch 9/50\n",
            "1563/1562 [==============================] - 84s 54ms/step - loss: 1.0360 - acc: 0.6317 - val_loss: 1.3073 - val_acc: 0.5768\n",
            "Epoch 10/50\n",
            "1563/1562 [==============================] - 84s 54ms/step - loss: 1.0033 - acc: 0.6455 - val_loss: 1.3313 - val_acc: 0.5933\n",
            "Epoch 11/50\n",
            "1563/1562 [==============================] - 84s 54ms/step - loss: 0.9800 - acc: 0.6525 - val_loss: 1.1253 - val_acc: 0.6380\n",
            "Epoch 12/50\n",
            "1563/1562 [==============================] - 84s 54ms/step - loss: 0.9511 - acc: 0.6633 - val_loss: 1.0230 - val_acc: 0.6644\n",
            "Epoch 13/50\n",
            "1563/1562 [==============================] - 84s 54ms/step - loss: 0.9255 - acc: 0.6734 - val_loss: 1.1301 - val_acc: 0.6479\n",
            "Epoch 14/50\n",
            "1563/1562 [==============================] - 84s 54ms/step - loss: 0.9059 - acc: 0.6799 - val_loss: 0.9778 - val_acc: 0.6778\n",
            "Epoch 15/50\n",
            "1563/1562 [==============================] - 84s 54ms/step - loss: 0.8843 - acc: 0.6888 - val_loss: 1.0720 - val_acc: 0.6631\n",
            "Epoch 16/50\n",
            "1563/1562 [==============================] - 84s 54ms/step - loss: 0.8650 - acc: 0.6956 - val_loss: 1.0887 - val_acc: 0.6555\n",
            "Epoch 17/50\n",
            "1563/1562 [==============================] - 84s 54ms/step - loss: 0.8519 - acc: 0.7009 - val_loss: 1.0726 - val_acc: 0.6756\n",
            "Epoch 18/50\n",
            "1563/1562 [==============================] - 84s 54ms/step - loss: 0.8326 - acc: 0.7073 - val_loss: 0.9360 - val_acc: 0.6990\n",
            "Epoch 19/50\n",
            "1563/1562 [==============================] - 84s 53ms/step - loss: 0.8204 - acc: 0.7125 - val_loss: 0.8999 - val_acc: 0.7157\n",
            "Epoch 20/50\n",
            "1563/1562 [==============================] - 84s 54ms/step - loss: 0.8057 - acc: 0.7191 - val_loss: 0.8759 - val_acc: 0.7209\n",
            "Epoch 21/50\n",
            "1563/1562 [==============================] - 85s 54ms/step - loss: 0.7895 - acc: 0.7226 - val_loss: 0.8747 - val_acc: 0.7184\n",
            "Epoch 22/50\n",
            "1563/1562 [==============================] - 85s 55ms/step - loss: 0.7782 - acc: 0.7276 - val_loss: 0.7885 - val_acc: 0.7442\n",
            "Epoch 23/50\n",
            "1563/1562 [==============================] - 85s 55ms/step - loss: 0.7645 - acc: 0.7330 - val_loss: 0.8367 - val_acc: 0.7374\n",
            "Epoch 24/50\n",
            "1563/1562 [==============================] - 85s 55ms/step - loss: 0.7639 - acc: 0.7336 - val_loss: 0.9055 - val_acc: 0.7107\n",
            "Epoch 25/50\n",
            "1563/1562 [==============================] - 86s 55ms/step - loss: 0.7482 - acc: 0.7378 - val_loss: 0.8548 - val_acc: 0.7280\n",
            "Epoch 26/50\n",
            "1563/1562 [==============================] - 85s 55ms/step - loss: 0.7387 - acc: 0.7424 - val_loss: 0.7967 - val_acc: 0.7457\n",
            "Epoch 27/50\n",
            "1563/1562 [==============================] - 86s 55ms/step - loss: 0.7282 - acc: 0.7457 - val_loss: 0.7851 - val_acc: 0.7467\n",
            "Epoch 28/50\n",
            "1563/1562 [==============================] - 86s 55ms/step - loss: 0.7192 - acc: 0.7492 - val_loss: 0.7456 - val_acc: 0.7596\n",
            "Epoch 29/50\n",
            "1563/1562 [==============================] - 86s 55ms/step - loss: 0.7110 - acc: 0.7527 - val_loss: 0.7704 - val_acc: 0.7606\n",
            "Epoch 30/50\n",
            "1563/1562 [==============================] - 86s 55ms/step - loss: 0.7043 - acc: 0.7540 - val_loss: 0.9208 - val_acc: 0.7234\n",
            "Epoch 31/50\n",
            "1563/1562 [==============================] - 85s 55ms/step - loss: 0.6969 - acc: 0.7578 - val_loss: 0.6703 - val_acc: 0.7822\n",
            "Epoch 32/50\n",
            "1563/1562 [==============================] - 86s 55ms/step - loss: 0.6895 - acc: 0.7605 - val_loss: 0.7058 - val_acc: 0.7745\n",
            "Epoch 33/50\n",
            "1563/1562 [==============================] - 85s 55ms/step - loss: 0.6842 - acc: 0.7619 - val_loss: 0.7483 - val_acc: 0.7608\n",
            "Epoch 34/50\n",
            "1563/1562 [==============================] - 85s 55ms/step - loss: 0.6759 - acc: 0.7630 - val_loss: 0.6609 - val_acc: 0.7867\n",
            "Epoch 35/50\n",
            "1563/1562 [==============================] - 85s 54ms/step - loss: 0.6699 - acc: 0.7659 - val_loss: 0.7034 - val_acc: 0.7728\n",
            "Epoch 36/50\n",
            "1563/1562 [==============================] - 85s 55ms/step - loss: 0.6643 - acc: 0.7683 - val_loss: 0.6714 - val_acc: 0.7838\n",
            "Epoch 37/50\n",
            "1563/1562 [==============================] - 85s 55ms/step - loss: 0.6602 - acc: 0.7701 - val_loss: 0.6487 - val_acc: 0.7932\n",
            "Epoch 38/50\n",
            "1563/1562 [==============================] - 85s 55ms/step - loss: 0.6508 - acc: 0.7739 - val_loss: 0.6288 - val_acc: 0.7943\n",
            "Epoch 39/50\n",
            "1563/1562 [==============================] - 86s 55ms/step - loss: 0.6451 - acc: 0.7767 - val_loss: 0.7370 - val_acc: 0.7739\n",
            "Epoch 40/50\n",
            "1563/1562 [==============================] - 85s 54ms/step - loss: 0.6456 - acc: 0.7743 - val_loss: 0.6824 - val_acc: 0.7889\n",
            "Epoch 41/50\n",
            "1563/1562 [==============================] - 85s 54ms/step - loss: 0.6400 - acc: 0.7771 - val_loss: 0.6855 - val_acc: 0.7795\n",
            "Epoch 42/50\n",
            "1563/1562 [==============================] - 85s 54ms/step - loss: 0.6331 - acc: 0.7805 - val_loss: 0.6226 - val_acc: 0.7998\n",
            "Epoch 43/50\n",
            "1563/1562 [==============================] - 85s 55ms/step - loss: 0.6266 - acc: 0.7824 - val_loss: 0.6327 - val_acc: 0.8000\n",
            "Epoch 44/50\n",
            "1563/1562 [==============================] - 85s 54ms/step - loss: 0.6195 - acc: 0.7832 - val_loss: 0.5867 - val_acc: 0.8130\n",
            "Epoch 45/50\n",
            "1563/1562 [==============================] - 85s 54ms/step - loss: 0.6190 - acc: 0.7852 - val_loss: 0.6507 - val_acc: 0.7961\n",
            "Epoch 46/50\n",
            "1563/1562 [==============================] - 85s 54ms/step - loss: 0.6127 - acc: 0.7859 - val_loss: 0.5787 - val_acc: 0.8138\n",
            "Epoch 47/50\n",
            "1563/1562 [==============================] - 85s 54ms/step - loss: 0.6078 - acc: 0.7882 - val_loss: 0.6458 - val_acc: 0.7952\n",
            "Epoch 48/50\n",
            "1563/1562 [==============================] - 85s 54ms/step - loss: 0.6028 - acc: 0.7892 - val_loss: 0.6473 - val_acc: 0.7901\n",
            "Epoch 49/50\n",
            "1563/1562 [==============================] - 84s 54ms/step - loss: 0.6027 - acc: 0.7910 - val_loss: 0.5837 - val_acc: 0.8131\n",
            "Epoch 50/50\n",
            "1563/1562 [==============================] - 84s 54ms/step - loss: 0.5950 - acc: 0.7923 - val_loss: 0.5351 - val_acc: 0.8233\n"
          ],
          "name": "stdout"
        }
      ]
    },
    {
      "metadata": {
        "id": "QZIFn0cwkosx",
        "colab_type": "text"
      },
      "cell_type": "markdown",
      "source": [
        "## **EXPERIMENT 3: KERNEL REGULARIZER- L2**"
      ]
    },
    {
      "metadata": {
        "id": "X60P2wYZeDD0",
        "colab_type": "code",
        "colab": {}
      },
      "cell_type": "code",
      "source": [
        "def get_trained_model(activation='relu',loss='categorical_crossentropy',optimizer='sgd', epochs = 20):\n",
        "  model = Sequential()\n",
        "  \n",
        "  \n",
        "\n",
        "  weight_decay  = 0.0003\n",
        "  weight_decay_1= 0.0001  \n",
        "  #layer1\n",
        "  model.add(Conv2D(32,(3,3),input_shape=[32,32,3],kernel_regularizer=regularizers.l2(0.0003),padding='same'))\n",
        "  model.add(Activation('relu'))\n",
        "  model.add(BatchNormalization())\n",
        "  model.add(Dropout(0.4))\n",
        "\n",
        "  #layer2\n",
        "  model.add(Conv2D(32,(3,3),kernel_regularizer=regularizers.l2(0.0003),padding='same'))\n",
        "  model.add(BatchNormalization())\n",
        "  model.add(Activation('relu'))\n",
        "  model.add(MaxPooling2D(2,2))\n",
        "\n",
        "  #layer 3\n",
        "  model.add(Conv2D(64,(3,3),kernel_regularizer=regularizers.l2(0.0003),padding='same'))\n",
        "  model.add(BatchNormalization())\n",
        "  model.add(Activation('relu'))\n",
        "  model.add(Dropout(0.4))\n",
        "\n",
        "\n",
        "  #layer4\n",
        "  model.add(Conv2D(64,(3,3),kernel_regularizer=regularizers.l2(0.0003),padding='same'))\n",
        "  model.add(BatchNormalization())\n",
        "  model.add(Activation('relu'))\n",
        "  model.add(MaxPooling2D(2,2))\n",
        "\n",
        "  #layer5\n",
        "\n",
        "\n",
        "  model.add(Conv2D(128,(3,3),padding='same'))\n",
        "  model.add(Activation('relu'))\n",
        "  model.add(BatchNormalization())\n",
        "  model.add(Dropout(0.3))\n",
        "\n",
        "  #layer6\n",
        "\n",
        "  model.add(Conv2D(128,(3,3),kernel_regularizer=regularizers.l2(0.0003),padding='same'))\n",
        "  model.add(BatchNormalization())\n",
        "  model.add(Activation('relu'))\n",
        "  model.add(MaxPooling2D(2,2))\n",
        "  \n",
        "  \n",
        "  model.add(Flatten())\n",
        "  model.add(Dense(512))\n",
        "  model.add(Dropout(0.3))\n",
        "  model.add(Dense(10,activation='softmax'))\n",
        "  model.summary()\n",
        "  \n",
        "  reduce_lr = keras.callbacks.ReduceLROnPlateau(monitor='val_acc', factor=0.2,\n",
        "                              patience=15, min_lr=0.001)\n",
        "  \n",
        "  \n",
        "  \n",
        "  \n",
        "  model.compile(loss='categorical_crossentropy',optimizer=optimizer,metrics=['accuracy'])\n",
        "  \n",
        "\n",
        "  \n",
        "  \n",
        "  history = model.fit(x_train, y_train, epochs = 50, batch_size = 64, validation_data = (x_test,y_test))\n",
        "  \n",
        "  \n",
        "  \n",
        "  \n",
        "  return model, history\n",
        "  \n",
        "  \n",
        "  \n",
        "  \n",
        "  \n",
        "\n"
      ],
      "execution_count": 0,
      "outputs": []
    },
    {
      "metadata": {
        "id": "co5jtEZ-fFoM",
        "colab_type": "code",
        "colab": {
          "base_uri": "https://localhost:8080/",
          "height": 2805
        },
        "outputId": "a58769b3-69dc-4999-9134-7b81027b779c"
      },
      "cell_type": "code",
      "source": [
        "model2, history2 = get_trained_model()"
      ],
      "execution_count": 22,
      "outputs": [
        {
          "output_type": "stream",
          "text": [
            "_________________________________________________________________\n",
            "Layer (type)                 Output Shape              Param #   \n",
            "=================================================================\n",
            "conv2d_31 (Conv2D)           (None, 32, 32, 32)        896       \n",
            "_________________________________________________________________\n",
            "activation_31 (Activation)   (None, 32, 32, 32)        0         \n",
            "_________________________________________________________________\n",
            "batch_normalization_31 (Batc (None, 32, 32, 32)        128       \n",
            "_________________________________________________________________\n",
            "dropout_21 (Dropout)         (None, 32, 32, 32)        0         \n",
            "_________________________________________________________________\n",
            "conv2d_32 (Conv2D)           (None, 32, 32, 32)        9248      \n",
            "_________________________________________________________________\n",
            "batch_normalization_32 (Batc (None, 32, 32, 32)        128       \n",
            "_________________________________________________________________\n",
            "activation_32 (Activation)   (None, 32, 32, 32)        0         \n",
            "_________________________________________________________________\n",
            "max_pooling2d_16 (MaxPooling (None, 16, 16, 32)        0         \n",
            "_________________________________________________________________\n",
            "conv2d_33 (Conv2D)           (None, 16, 16, 64)        18496     \n",
            "_________________________________________________________________\n",
            "batch_normalization_33 (Batc (None, 16, 16, 64)        256       \n",
            "_________________________________________________________________\n",
            "activation_33 (Activation)   (None, 16, 16, 64)        0         \n",
            "_________________________________________________________________\n",
            "dropout_22 (Dropout)         (None, 16, 16, 64)        0         \n",
            "_________________________________________________________________\n",
            "conv2d_34 (Conv2D)           (None, 16, 16, 64)        36928     \n",
            "_________________________________________________________________\n",
            "batch_normalization_34 (Batc (None, 16, 16, 64)        256       \n",
            "_________________________________________________________________\n",
            "activation_34 (Activation)   (None, 16, 16, 64)        0         \n",
            "_________________________________________________________________\n",
            "max_pooling2d_17 (MaxPooling (None, 8, 8, 64)          0         \n",
            "_________________________________________________________________\n",
            "conv2d_35 (Conv2D)           (None, 8, 8, 128)         73856     \n",
            "_________________________________________________________________\n",
            "activation_35 (Activation)   (None, 8, 8, 128)         0         \n",
            "_________________________________________________________________\n",
            "batch_normalization_35 (Batc (None, 8, 8, 128)         512       \n",
            "_________________________________________________________________\n",
            "dropout_23 (Dropout)         (None, 8, 8, 128)         0         \n",
            "_________________________________________________________________\n",
            "conv2d_36 (Conv2D)           (None, 8, 8, 128)         147584    \n",
            "_________________________________________________________________\n",
            "batch_normalization_36 (Batc (None, 8, 8, 128)         512       \n",
            "_________________________________________________________________\n",
            "activation_36 (Activation)   (None, 8, 8, 128)         0         \n",
            "_________________________________________________________________\n",
            "max_pooling2d_18 (MaxPooling (None, 4, 4, 128)         0         \n",
            "_________________________________________________________________\n",
            "flatten_6 (Flatten)          (None, 2048)              0         \n",
            "_________________________________________________________________\n",
            "dense_11 (Dense)             (None, 512)               1049088   \n",
            "_________________________________________________________________\n",
            "dropout_24 (Dropout)         (None, 512)               0         \n",
            "_________________________________________________________________\n",
            "dense_12 (Dense)             (None, 10)                5130      \n",
            "=================================================================\n",
            "Total params: 1,343,018\n",
            "Trainable params: 1,342,122\n",
            "Non-trainable params: 896\n",
            "_________________________________________________________________\n",
            "Train on 50000 samples, validate on 10000 samples\n",
            "Epoch 1/50\n",
            "50000/50000 [==============================] - 29s 586us/step - loss: 2.1591 - acc: 0.3508 - val_loss: 1.8355 - val_acc: 0.3385\n",
            "Epoch 2/50\n",
            "50000/50000 [==============================] - 29s 578us/step - loss: 1.5208 - acc: 0.4830 - val_loss: 1.9920 - val_acc: 0.3244\n",
            "Epoch 3/50\n",
            "50000/50000 [==============================] - 29s 579us/step - loss: 1.3535 - acc: 0.5434 - val_loss: 1.4576 - val_acc: 0.5154\n",
            "Epoch 4/50\n",
            "50000/50000 [==============================] - 29s 578us/step - loss: 1.2274 - acc: 0.5906 - val_loss: 1.6270 - val_acc: 0.4780\n",
            "Epoch 5/50\n",
            "50000/50000 [==============================] - 29s 580us/step - loss: 1.1295 - acc: 0.6268 - val_loss: 1.5464 - val_acc: 0.5181\n",
            "Epoch 6/50\n",
            "50000/50000 [==============================] - 29s 580us/step - loss: 1.0579 - acc: 0.6519 - val_loss: 1.2148 - val_acc: 0.6046\n",
            "Epoch 7/50\n",
            "50000/50000 [==============================] - 29s 579us/step - loss: 1.0034 - acc: 0.6740 - val_loss: 1.2272 - val_acc: 0.6074\n",
            "Epoch 8/50\n",
            "50000/50000 [==============================] - 27s 544us/step - loss: 0.9539 - acc: 0.6898 - val_loss: 1.1224 - val_acc: 0.6356\n",
            "Epoch 9/50\n",
            "50000/50000 [==============================] - 27s 545us/step - loss: 0.9134 - acc: 0.7038 - val_loss: 1.2212 - val_acc: 0.6133\n",
            "Epoch 10/50\n",
            "50000/50000 [==============================] - 27s 547us/step - loss: 0.8786 - acc: 0.7177 - val_loss: 1.1392 - val_acc: 0.6387\n",
            "Epoch 11/50\n",
            "50000/50000 [==============================] - 27s 546us/step - loss: 0.8463 - acc: 0.7280 - val_loss: 1.0367 - val_acc: 0.6669\n",
            "Epoch 12/50\n",
            "50000/50000 [==============================] - 27s 543us/step - loss: 0.8170 - acc: 0.7369 - val_loss: 0.8909 - val_acc: 0.7106\n",
            "Epoch 13/50\n",
            "50000/50000 [==============================] - 27s 545us/step - loss: 0.7976 - acc: 0.7462 - val_loss: 0.9265 - val_acc: 0.7023\n",
            "Epoch 14/50\n",
            "50000/50000 [==============================] - 27s 544us/step - loss: 0.7732 - acc: 0.7560 - val_loss: 0.8941 - val_acc: 0.7160\n",
            "Epoch 15/50\n",
            "50000/50000 [==============================] - 27s 544us/step - loss: 0.7517 - acc: 0.7618 - val_loss: 0.9154 - val_acc: 0.7148\n",
            "Epoch 16/50\n",
            "50000/50000 [==============================] - 27s 546us/step - loss: 0.7314 - acc: 0.7697 - val_loss: 0.8539 - val_acc: 0.7312\n",
            "Epoch 17/50\n",
            "50000/50000 [==============================] - 27s 546us/step - loss: 0.7196 - acc: 0.7726 - val_loss: 0.8322 - val_acc: 0.7420\n",
            "Epoch 18/50\n",
            "50000/50000 [==============================] - 27s 544us/step - loss: 0.7001 - acc: 0.7799 - val_loss: 1.0276 - val_acc: 0.6842\n",
            "Epoch 19/50\n",
            "50000/50000 [==============================] - 27s 546us/step - loss: 0.6875 - acc: 0.7838 - val_loss: 0.7500 - val_acc: 0.7625\n",
            "Epoch 20/50\n",
            "50000/50000 [==============================] - 27s 545us/step - loss: 0.6715 - acc: 0.7894 - val_loss: 0.8152 - val_acc: 0.7434\n",
            "Epoch 21/50\n",
            "50000/50000 [==============================] - 27s 545us/step - loss: 0.6620 - acc: 0.7933 - val_loss: 0.7726 - val_acc: 0.7645\n",
            "Epoch 22/50\n",
            "50000/50000 [==============================] - 27s 546us/step - loss: 0.6452 - acc: 0.7994 - val_loss: 0.9048 - val_acc: 0.7235\n",
            "Epoch 23/50\n",
            "50000/50000 [==============================] - 27s 540us/step - loss: 0.6296 - acc: 0.8056 - val_loss: 0.7343 - val_acc: 0.7725\n",
            "Epoch 24/50\n",
            "50000/50000 [==============================] - 27s 544us/step - loss: 0.6166 - acc: 0.8098 - val_loss: 0.8408 - val_acc: 0.7453\n",
            "Epoch 25/50\n",
            "50000/50000 [==============================] - 29s 580us/step - loss: 0.6040 - acc: 0.8126 - val_loss: 0.7559 - val_acc: 0.7705\n",
            "Epoch 26/50\n",
            "50000/50000 [==============================] - 27s 546us/step - loss: 0.5937 - acc: 0.8176 - val_loss: 0.7465 - val_acc: 0.7740\n",
            "Epoch 27/50\n",
            "50000/50000 [==============================] - 27s 547us/step - loss: 0.5831 - acc: 0.8193 - val_loss: 0.9306 - val_acc: 0.7127\n",
            "Epoch 28/50\n",
            "50000/50000 [==============================] - 27s 545us/step - loss: 0.5766 - acc: 0.8198 - val_loss: 0.7733 - val_acc: 0.7643\n",
            "Epoch 29/50\n",
            "50000/50000 [==============================] - 27s 546us/step - loss: 0.5635 - acc: 0.8262 - val_loss: 0.7349 - val_acc: 0.7757\n",
            "Epoch 30/50\n",
            "50000/50000 [==============================] - 27s 547us/step - loss: 0.5587 - acc: 0.8278 - val_loss: 0.9359 - val_acc: 0.7260\n",
            "Epoch 31/50\n",
            "50000/50000 [==============================] - 27s 546us/step - loss: 0.5462 - acc: 0.8310 - val_loss: 0.7350 - val_acc: 0.7844\n",
            "Epoch 32/50\n",
            "50000/50000 [==============================] - 27s 542us/step - loss: 0.5350 - acc: 0.8372 - val_loss: 0.8182 - val_acc: 0.7537\n",
            "Epoch 33/50\n",
            "50000/50000 [==============================] - 27s 546us/step - loss: 0.5303 - acc: 0.8387 - val_loss: 0.7516 - val_acc: 0.7681\n",
            "Epoch 34/50\n",
            "50000/50000 [==============================] - 27s 544us/step - loss: 0.5162 - acc: 0.8416 - val_loss: 0.7055 - val_acc: 0.7975\n",
            "Epoch 35/50\n",
            "50000/50000 [==============================] - 27s 544us/step - loss: 0.5140 - acc: 0.8437 - val_loss: 0.6985 - val_acc: 0.7850\n",
            "Epoch 36/50\n",
            "50000/50000 [==============================] - 27s 546us/step - loss: 0.5000 - acc: 0.8472 - val_loss: 0.7525 - val_acc: 0.7774\n",
            "Epoch 37/50\n",
            "50000/50000 [==============================] - 27s 546us/step - loss: 0.4966 - acc: 0.8471 - val_loss: 0.7140 - val_acc: 0.7864\n",
            "Epoch 38/50\n",
            "50000/50000 [==============================] - 27s 545us/step - loss: 0.4907 - acc: 0.8501 - val_loss: 0.6517 - val_acc: 0.8049\n",
            "Epoch 39/50\n",
            "50000/50000 [==============================] - 27s 546us/step - loss: 0.4768 - acc: 0.8551 - val_loss: 0.6813 - val_acc: 0.7993\n",
            "Epoch 40/50\n",
            "50000/50000 [==============================] - 27s 546us/step - loss: 0.4688 - acc: 0.8585 - val_loss: 0.6859 - val_acc: 0.8020\n",
            "Epoch 41/50\n",
            "50000/50000 [==============================] - 27s 545us/step - loss: 0.4645 - acc: 0.8583 - val_loss: 0.6525 - val_acc: 0.8074\n",
            "Epoch 42/50\n",
            "50000/50000 [==============================] - 27s 545us/step - loss: 0.4502 - acc: 0.8630 - val_loss: 0.7443 - val_acc: 0.7878\n",
            "Epoch 43/50\n",
            "50000/50000 [==============================] - 27s 545us/step - loss: 0.4528 - acc: 0.8629 - val_loss: 0.6247 - val_acc: 0.8182\n",
            "Epoch 44/50\n",
            "50000/50000 [==============================] - 27s 549us/step - loss: 0.4425 - acc: 0.8660 - val_loss: 0.6650 - val_acc: 0.8097\n",
            "Epoch 45/50\n",
            "50000/50000 [==============================] - 27s 546us/step - loss: 0.4318 - acc: 0.8713 - val_loss: 0.6696 - val_acc: 0.8057\n",
            "Epoch 46/50\n",
            "50000/50000 [==============================] - 27s 544us/step - loss: 0.4317 - acc: 0.8718 - val_loss: 0.6621 - val_acc: 0.8113\n",
            "Epoch 47/50\n",
            "50000/50000 [==============================] - 29s 583us/step - loss: 0.4210 - acc: 0.8739 - val_loss: 0.6808 - val_acc: 0.8029\n",
            "Epoch 48/50\n",
            "50000/50000 [==============================] - 29s 582us/step - loss: 0.4164 - acc: 0.8752 - val_loss: 1.3777 - val_acc: 0.6235\n",
            "Epoch 49/50\n",
            "50000/50000 [==============================] - 29s 579us/step - loss: 0.4104 - acc: 0.8768 - val_loss: 0.6657 - val_acc: 0.8066\n",
            "Epoch 50/50\n",
            "50000/50000 [==============================] - 27s 544us/step - loss: 0.4034 - acc: 0.8817 - val_loss: 0.8274 - val_acc: 0.7763\n"
          ],
          "name": "stdout"
        }
      ]
    }
  ]
}